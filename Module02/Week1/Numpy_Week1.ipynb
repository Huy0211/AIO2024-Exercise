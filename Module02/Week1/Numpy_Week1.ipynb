{
  "nbformat": 4,
  "nbformat_minor": 0,
  "metadata": {
    "colab": {
      "provenance": []
    },
    "kernelspec": {
      "name": "python3",
      "display_name": "Python 3"
    },
    "language_info": {
      "name": "python"
    }
  },
  "cells": [
    {
      "cell_type": "code",
      "source": [
        "# Download image\n",
        "!gdown 1i9dqan21DjQoG5Q_VEvm0LrVwAlXD0vB\n",
        "\n",
        "import matplotlib.image as mpimg\n",
        "import numpy as np\n",
        "\n",
        "img = mpimg.imread('/content/dog.jpeg')\n"
      ],
      "metadata": {
        "colab": {
          "base_uri": "https://localhost:8080/"
        },
        "id": "z7wAKX7HcBz0",
        "outputId": "4196b341-e6ef-4872-d765-cdc315bbc8ae"
      },
      "execution_count": 5,
      "outputs": [
        {
          "output_type": "stream",
          "name": "stdout",
          "text": [
            "Downloading...\n",
            "From: https://drive.google.com/uc?id=1i9dqan21DjQoG5Q_VEvm0LrVwAlXD0vB\n",
            "To: /content/dog.jpeg\n",
            "\r  0% 0.00/33.7k [00:00<?, ?B/s]\r100% 33.7k/33.7k [00:00<00:00, 44.0MB/s]\n"
          ]
        }
      ]
    },
    {
      "cell_type": "code",
      "source": [
        "# (Max(RGB) + Min(RGB)) / 2\n",
        "def color2grayscale_lightness(vector):\n",
        "  max = np.max(vector)\n",
        "  min = np.min(vector)\n",
        "  return (max + min) / 2\n",
        "\n",
        "gray_img_01 = np.apply_along_axis(color2grayscale_lightness, 2, img)\n",
        "gray_img_01[0,0]"
      ],
      "metadata": {
        "colab": {
          "base_uri": "https://localhost:8080/"
        },
        "id": "HtNkukIbedqu",
        "outputId": "076b7cb9-aa7f-425d-856a-8858ffe8bd6a"
      },
      "execution_count": 7,
      "outputs": [
        {
          "output_type": "stream",
          "name": "stderr",
          "text": [
            "<ipython-input-7-976ff7f9bde4>:5: RuntimeWarning: overflow encountered in scalar add\n",
            "  return (max + min) / 2\n"
          ]
        },
        {
          "output_type": "execute_result",
          "data": {
            "text/plain": [
              "102.5"
            ]
          },
          "metadata": {},
          "execution_count": 7
        }
      ]
    },
    {
      "cell_type": "code",
      "source": [
        "def color2grayscale_average(vector):\n",
        "  return np.average(vector)\n",
        "\n",
        "gray_img_02 = np.apply_along_axis(color2grayscale_average, 2, img)\n",
        "gray_img_02[0,0]"
      ],
      "metadata": {
        "colab": {
          "base_uri": "https://localhost:8080/"
        },
        "id": "DPfasjBhdaRC",
        "outputId": "15f0c4e4-9286-45a2-c147-1dd58a93d130"
      },
      "execution_count": 4,
      "outputs": [
        {
          "output_type": "execute_result",
          "data": {
            "text/plain": [
              "107.66666666666667"
            ]
          },
          "metadata": {},
          "execution_count": 4
        }
      ]
    },
    {
      "cell_type": "code",
      "source": [
        "def color2grayscale_luminosity(vector):\n",
        "  return 0.21 * vector[0] + 0.72 * vector[1] + 0.07 * vector[2]\n",
        "\n",
        "gray_img_03 = np.apply_along_axis(color2grayscale_luminosity, 2, img)\n",
        "gray_img_03[0,0]"
      ],
      "metadata": {
        "colab": {
          "base_uri": "https://localhost:8080/"
        },
        "id": "ODyye0i7eO0G",
        "outputId": "2e97ceeb-8e2e-4529-95f5-b185151d088d"
      },
      "execution_count": 8,
      "outputs": [
        {
          "output_type": "execute_result",
          "data": {
            "text/plain": [
              "126.22999999999999"
            ]
          },
          "metadata": {},
          "execution_count": 8
        }
      ]
    },
    {
      "cell_type": "code",
      "source": [
        "!gdown 1iA0WmVfW88HyJvTBSQDI5vesf-pgKabq\n",
        "\n",
        "import pandas as pd\n",
        "df = pd.read_csv('/content/advertising.csv')\n",
        "\n",
        "data = df.to_numpy()\n",
        "data"
      ],
      "metadata": {
        "colab": {
          "base_uri": "https://localhost:8080/"
        },
        "id": "LcSvFNiOfi5b",
        "outputId": "fc02a7b4-2ab1-4d41-ffe5-0a675c248e1d"
      },
      "execution_count": 10,
      "outputs": [
        {
          "output_type": "stream",
          "name": "stdout",
          "text": [
            "Downloading...\n",
            "From: https://drive.google.com/uc?id=1iA0WmVfW88HyJvTBSQDI5vesf-pgKabq\n",
            "To: /content/advertising.csv\n",
            "\r  0% 0.00/4.06k [00:00<?, ?B/s]\r100% 4.06k/4.06k [00:00<00:00, 12.5MB/s]\n"
          ]
        },
        {
          "output_type": "execute_result",
          "data": {
            "text/plain": [
              "array([[230.1,  37.8,  69.2,  22.1],\n",
              "       [ 44.5,  39.3,  45.1,  10.4],\n",
              "       [ 17.2,  45.9,  69.3,  12. ],\n",
              "       [151.5,  41.3,  58.5,  16.5],\n",
              "       [180.8,  10.8,  58.4,  17.9],\n",
              "       [  8.7,  48.9,  75. ,   7.2],\n",
              "       [ 57.5,  32.8,  23.5,  11.8],\n",
              "       [120.2,  19.6,  11.6,  13.2],\n",
              "       [  8.6,   2.1,   1. ,   4.8],\n",
              "       [199.8,   2.6,  21.2,  15.6],\n",
              "       [ 66.1,   5.8,  24.2,  12.6],\n",
              "       [214.7,  24. ,   4. ,  17.4],\n",
              "       [ 23.8,  35.1,  65.9,   9.2],\n",
              "       [ 97.5,   7.6,   7.2,  13.7],\n",
              "       [204.1,  32.9,  46. ,  19. ],\n",
              "       [195.4,  47.7,  52.9,  22.4],\n",
              "       [ 67.8,  36.6, 114. ,  12.5],\n",
              "       [281.4,  39.6,  55.8,  24.4],\n",
              "       [ 69.2,  20.5,  18.3,  11.3],\n",
              "       [147.3,  23.9,  19.1,  14.6],\n",
              "       [218.4,  27.7,  53.4,  18. ],\n",
              "       [237.4,   5.1,  23.5,  17.5],\n",
              "       [ 13.2,  15.9,  49.6,   5.6],\n",
              "       [228.3,  16.9,  26.2,  20.5],\n",
              "       [ 62.3,  12.6,  18.3,   9.7],\n",
              "       [262.9,   3.5,  19.5,  17. ],\n",
              "       [142.9,  29.3,  12.6,  15. ],\n",
              "       [240.1,  16.7,  22.9,  20.9],\n",
              "       [248.8,  27.1,  22.9,  18.9],\n",
              "       [ 70.6,  16. ,  40.8,  10.5],\n",
              "       [292.9,  28.3,  43.2,  21.4],\n",
              "       [112.9,  17.4,  38.6,  11.9],\n",
              "       [ 97.2,   1.5,  30. ,  13.2],\n",
              "       [265.6,  20. ,   0.3,  17.4],\n",
              "       [ 95.7,   1.4,   7.4,  11.9],\n",
              "       [290.7,   4.1,   8.5,  17.8],\n",
              "       [266.9,  43.8,   5. ,  25.4],\n",
              "       [ 74.7,  49.4,  45.7,  14.7],\n",
              "       [ 43.1,  26.7,  35.1,  10.1],\n",
              "       [228. ,  37.7,  32. ,  21.5],\n",
              "       [202.5,  22.3,  31.6,  16.6],\n",
              "       [177. ,  33.4,  38.7,  17.1],\n",
              "       [293.6,  27.7,   1.8,  20.7],\n",
              "       [206.9,   8.4,  26.4,  17.9],\n",
              "       [ 25.1,  25.7,  43.3,   8.5],\n",
              "       [175.1,  22.5,  31.5,  16.1],\n",
              "       [ 89.7,   9.9,  35.7,  10.6],\n",
              "       [239.9,  41.5,  18.5,  23.2],\n",
              "       [227.2,  15.8,  49.9,  19.8],\n",
              "       [ 66.9,  11.7,  36.8,   9.7],\n",
              "       [199.8,   3.1,  34.6,  16.4],\n",
              "       [100.4,   9.6,   3.6,  10.7],\n",
              "       [216.4,  41.7,  39.6,  22.6],\n",
              "       [182.6,  46.2,  58.7,  21.2],\n",
              "       [262.7,  28.8,  15.9,  20.2],\n",
              "       [198.9,  49.4,  60. ,  23.7],\n",
              "       [  7.3,  28.1,  41.4,   5.5],\n",
              "       [136.2,  19.2,  16.6,  13.2],\n",
              "       [210.8,  49.6,  37.7,  23.8],\n",
              "       [210.7,  29.5,   9.3,  18.4],\n",
              "       [ 53.5,   2. ,  21.4,   8.1],\n",
              "       [261.3,  42.7,  54.7,  24.2],\n",
              "       [239.3,  15.5,  27.3,  20.7],\n",
              "       [102.7,  29.6,   8.4,  14. ],\n",
              "       [131.1,  42.8,  28.9,  16. ],\n",
              "       [ 69. ,   9.3,   0.9,  11.3],\n",
              "       [ 31.5,  24.6,   2.2,  11. ],\n",
              "       [139.3,  14.5,  10.2,  13.4],\n",
              "       [237.4,  27.5,  11. ,  18.9],\n",
              "       [216.8,  43.9,  27.2,  22.3],\n",
              "       [199.1,  30.6,  38.7,  18.3],\n",
              "       [109.8,  14.3,  31.7,  12.4],\n",
              "       [ 26.8,  33. ,  19.3,   8.8],\n",
              "       [129.4,   5.7,  31.3,  11. ],\n",
              "       [213.4,  24.6,  13.1,  17. ],\n",
              "       [ 16.9,  43.7,  89.4,   8.7],\n",
              "       [ 27.5,   1.6,  20.7,   6.9],\n",
              "       [120.5,  28.5,  14.2,  14.2],\n",
              "       [  5.4,  29.9,   9.4,   5.3],\n",
              "       [116. ,   7.7,  23.1,  11. ],\n",
              "       [ 76.4,  26.7,  22.3,  11.8],\n",
              "       [239.8,   4.1,  36.9,  17.3],\n",
              "       [ 75.3,  20.3,  32.5,  11.3],\n",
              "       [ 68.4,  44.5,  35.6,  13.6],\n",
              "       [213.5,  43. ,  33.8,  21.7],\n",
              "       [193.2,  18.4,  65.7,  20.2],\n",
              "       [ 76.3,  27.5,  16. ,  12. ],\n",
              "       [110.7,  40.6,  63.2,  16. ],\n",
              "       [ 88.3,  25.5,  73.4,  12.9],\n",
              "       [109.8,  47.8,  51.4,  16.7],\n",
              "       [134.3,   4.9,   9.3,  14. ],\n",
              "       [ 28.6,   1.5,  33. ,   7.3],\n",
              "       [217.7,  33.5,  59. ,  19.4],\n",
              "       [250.9,  36.5,  72.3,  22.2],\n",
              "       [107.4,  14. ,  10.9,  11.5],\n",
              "       [163.3,  31.6,  52.9,  16.9],\n",
              "       [197.6,   3.5,   5.9,  16.7],\n",
              "       [184.9,  21. ,  22. ,  20.5],\n",
              "       [289.7,  42.3,  51.2,  25.4],\n",
              "       [135.2,  41.7,  45.9,  17.2],\n",
              "       [222.4,   4.3,  49.8,  16.7],\n",
              "       [296.4,  36.3, 100.9,  23.8],\n",
              "       [280.2,  10.1,  21.4,  19.8],\n",
              "       [187.9,  17.2,  17.9,  19.7],\n",
              "       [238.2,  34.3,   5.3,  20.7],\n",
              "       [137.9,  46.4,  59. ,  15. ],\n",
              "       [ 25. ,  11. ,  29.7,   7.2],\n",
              "       [ 90.4,   0.3,  23.2,  12. ],\n",
              "       [ 13.1,   0.4,  25.6,   5.3],\n",
              "       [255.4,  26.9,   5.5,  19.8],\n",
              "       [225.8,   8.2,  56.5,  18.4],\n",
              "       [241.7,  38. ,  23.2,  21.8],\n",
              "       [175.7,  15.4,   2.4,  17.1],\n",
              "       [209.6,  20.6,  10.7,  20.9],\n",
              "       [ 78.2,  46.8,  34.5,  14.6],\n",
              "       [ 75.1,  35. ,  52.7,  12.6],\n",
              "       [139.2,  14.3,  25.6,  12.2],\n",
              "       [ 76.4,   0.8,  14.8,   9.4],\n",
              "       [125.7,  36.9,  79.2,  15.9],\n",
              "       [ 19.4,  16. ,  22.3,   6.6],\n",
              "       [141.3,  26.8,  46.2,  15.5],\n",
              "       [ 18.8,  21.7,  50.4,   7. ],\n",
              "       [224. ,   2.4,  15.6,  16.6],\n",
              "       [123.1,  34.6,  12.4,  15.2],\n",
              "       [229.5,  32.3,  74.2,  19.7],\n",
              "       [ 87.2,  11.8,  25.9,  10.6],\n",
              "       [  7.8,  38.9,  50.6,   6.6],\n",
              "       [ 80.2,   0. ,   9.2,  11.9],\n",
              "       [220.3,  49. ,   3.2,  24.7],\n",
              "       [ 59.6,  12. ,  43.1,   9.7],\n",
              "       [  0.7,  39.6,   8.7,   1.6],\n",
              "       [265.2,   2.9,  43. ,  17.7],\n",
              "       [  8.4,  27.2,   2.1,   5.7],\n",
              "       [219.8,  33.5,  45.1,  19.6],\n",
              "       [ 36.9,  38.6,  65.6,  10.8],\n",
              "       [ 48.3,  47. ,   8.5,  11.6],\n",
              "       [ 25.6,  39. ,   9.3,   9.5],\n",
              "       [273.7,  28.9,  59.7,  20.8],\n",
              "       [ 43. ,  25.9,  20.5,   9.6],\n",
              "       [184.9,  43.9,   1.7,  20.7],\n",
              "       [ 73.4,  17. ,  12.9,  10.9],\n",
              "       [193.7,  35.4,  75.6,  19.2],\n",
              "       [220.5,  33.2,  37.9,  20.1],\n",
              "       [104.6,   5.7,  34.4,  10.4],\n",
              "       [ 96.2,  14.8,  38.9,  12.3],\n",
              "       [140.3,   1.9,   9. ,  10.3],\n",
              "       [240.1,   7.3,   8.7,  18.2],\n",
              "       [243.2,  49. ,  44.3,  25.4],\n",
              "       [ 38. ,  40.3,  11.9,  10.9],\n",
              "       [ 44.7,  25.8,  20.6,  10.1],\n",
              "       [280.7,  13.9,  37. ,  16.1],\n",
              "       [121. ,   8.4,  48.7,  11.6],\n",
              "       [197.6,  23.3,  14.2,  16.6],\n",
              "       [171.3,  39.7,  37.7,  16. ],\n",
              "       [187.8,  21.1,   9.5,  20.6],\n",
              "       [  4.1,  11.6,   5.7,   3.2],\n",
              "       [ 93.9,  43.5,  50.5,  15.3],\n",
              "       [149.8,   1.3,  24.3,  10.1],\n",
              "       [ 11.7,  36.9,  45.2,   7.3],\n",
              "       [131.7,  18.4,  34.6,  12.9],\n",
              "       [172.5,  18.1,  30.7,  16.4],\n",
              "       [ 85.7,  35.8,  49.3,  13.3],\n",
              "       [188.4,  18.1,  25.6,  19.9],\n",
              "       [163.5,  36.8,   7.4,  18. ],\n",
              "       [117.2,  14.7,   5.4,  11.9],\n",
              "       [234.5,   3.4,  84.8,  16.9],\n",
              "       [ 17.9,  37.6,  21.6,   8. ],\n",
              "       [206.8,   5.2,  19.4,  17.2],\n",
              "       [215.4,  23.6,  57.6,  17.1],\n",
              "       [284.3,  10.6,   6.4,  20. ],\n",
              "       [ 50. ,  11.6,  18.4,   8.4],\n",
              "       [164.5,  20.9,  47.4,  17.5],\n",
              "       [ 19.6,  20.1,  17. ,   7.6],\n",
              "       [168.4,   7.1,  12.8,  16.7],\n",
              "       [222.4,   3.4,  13.1,  16.5],\n",
              "       [276.9,  48.9,  41.8,  27. ],\n",
              "       [248.4,  30.2,  20.3,  20.2],\n",
              "       [170.2,   7.8,  35.2,  16.7],\n",
              "       [276.7,   2.3,  23.7,  16.8],\n",
              "       [165.6,  10. ,  17.6,  17.6],\n",
              "       [156.6,   2.6,   8.3,  15.5],\n",
              "       [218.5,   5.4,  27.4,  17.2],\n",
              "       [ 56.2,   5.7,  29.7,   8.7],\n",
              "       [287.6,  43. ,  71.8,  26.2],\n",
              "       [253.8,  21.3,  30. ,  17.6],\n",
              "       [205. ,  45.1,  19.6,  22.6],\n",
              "       [139.5,   2.1,  26.6,  10.3],\n",
              "       [191.1,  28.7,  18.2,  17.3],\n",
              "       [286. ,  13.9,   3.7,  20.9],\n",
              "       [ 18.7,  12.1,  23.4,   6.7],\n",
              "       [ 39.5,  41.1,   5.8,  10.8],\n",
              "       [ 75.5,  10.8,   6. ,  11.9],\n",
              "       [ 17.2,   4.1,  31.6,   5.9],\n",
              "       [166.8,  42. ,   3.6,  19.6],\n",
              "       [149.7,  35.6,   6. ,  17.3],\n",
              "       [ 38.2,   3.7,  13.8,   7.6],\n",
              "       [ 94.2,   4.9,   8.1,  14. ],\n",
              "       [177. ,   9.3,   6.4,  14.8],\n",
              "       [283.6,  42. ,  66.2,  25.5],\n",
              "       [232.1,   8.6,   8.7,  18.4]])"
            ]
          },
          "metadata": {},
          "execution_count": 10
        }
      ]
    },
    {
      "cell_type": "code",
      "source": [
        "sales_data = data[:,3]\n",
        "sales_data"
      ],
      "metadata": {
        "colab": {
          "base_uri": "https://localhost:8080/"
        },
        "id": "w7mGD9tojI5h",
        "outputId": "0cc5410c-fd53-4f50-ef72-fb492d823f15"
      },
      "execution_count": 11,
      "outputs": [
        {
          "output_type": "execute_result",
          "data": {
            "text/plain": [
              "array([22.1, 10.4, 12. , 16.5, 17.9,  7.2, 11.8, 13.2,  4.8, 15.6, 12.6,\n",
              "       17.4,  9.2, 13.7, 19. , 22.4, 12.5, 24.4, 11.3, 14.6, 18. , 17.5,\n",
              "        5.6, 20.5,  9.7, 17. , 15. , 20.9, 18.9, 10.5, 21.4, 11.9, 13.2,\n",
              "       17.4, 11.9, 17.8, 25.4, 14.7, 10.1, 21.5, 16.6, 17.1, 20.7, 17.9,\n",
              "        8.5, 16.1, 10.6, 23.2, 19.8,  9.7, 16.4, 10.7, 22.6, 21.2, 20.2,\n",
              "       23.7,  5.5, 13.2, 23.8, 18.4,  8.1, 24.2, 20.7, 14. , 16. , 11.3,\n",
              "       11. , 13.4, 18.9, 22.3, 18.3, 12.4,  8.8, 11. , 17. ,  8.7,  6.9,\n",
              "       14.2,  5.3, 11. , 11.8, 17.3, 11.3, 13.6, 21.7, 20.2, 12. , 16. ,\n",
              "       12.9, 16.7, 14. ,  7.3, 19.4, 22.2, 11.5, 16.9, 16.7, 20.5, 25.4,\n",
              "       17.2, 16.7, 23.8, 19.8, 19.7, 20.7, 15. ,  7.2, 12. ,  5.3, 19.8,\n",
              "       18.4, 21.8, 17.1, 20.9, 14.6, 12.6, 12.2,  9.4, 15.9,  6.6, 15.5,\n",
              "        7. , 16.6, 15.2, 19.7, 10.6,  6.6, 11.9, 24.7,  9.7,  1.6, 17.7,\n",
              "        5.7, 19.6, 10.8, 11.6,  9.5, 20.8,  9.6, 20.7, 10.9, 19.2, 20.1,\n",
              "       10.4, 12.3, 10.3, 18.2, 25.4, 10.9, 10.1, 16.1, 11.6, 16.6, 16. ,\n",
              "       20.6,  3.2, 15.3, 10.1,  7.3, 12.9, 16.4, 13.3, 19.9, 18. , 11.9,\n",
              "       16.9,  8. , 17.2, 17.1, 20. ,  8.4, 17.5,  7.6, 16.7, 16.5, 27. ,\n",
              "       20.2, 16.7, 16.8, 17.6, 15.5, 17.2,  8.7, 26.2, 17.6, 22.6, 10.3,\n",
              "       17.3, 20.9,  6.7, 10.8, 11.9,  5.9, 19.6, 17.3,  7.6, 14. , 14.8,\n",
              "       25.5, 18.4])"
            ]
          },
          "metadata": {},
          "execution_count": 11
        }
      ]
    },
    {
      "cell_type": "code",
      "source": [
        "sales_max = np.max(sales_data)\n",
        "sales_index = np.argmax(sales_data)\n",
        "sales_max, sales_index"
      ],
      "metadata": {
        "colab": {
          "base_uri": "https://localhost:8080/"
        },
        "id": "ArG9fnvWj2Jo",
        "outputId": "c71c5d03-8bba-4752-9a49-c3b69d215000"
      },
      "execution_count": 12,
      "outputs": [
        {
          "output_type": "execute_result",
          "data": {
            "text/plain": [
              "(27.0, 175)"
            ]
          },
          "metadata": {},
          "execution_count": 12
        }
      ]
    },
    {
      "cell_type": "code",
      "source": [
        "tv_data = data[:,0]\n",
        "tv_data"
      ],
      "metadata": {
        "colab": {
          "base_uri": "https://localhost:8080/"
        },
        "id": "8Ger_9shkJ_j",
        "outputId": "8fcd93e2-8ebd-4d30-e10b-ad866a96c323"
      },
      "execution_count": 13,
      "outputs": [
        {
          "output_type": "execute_result",
          "data": {
            "text/plain": [
              "array([230.1,  44.5,  17.2, 151.5, 180.8,   8.7,  57.5, 120.2,   8.6,\n",
              "       199.8,  66.1, 214.7,  23.8,  97.5, 204.1, 195.4,  67.8, 281.4,\n",
              "        69.2, 147.3, 218.4, 237.4,  13.2, 228.3,  62.3, 262.9, 142.9,\n",
              "       240.1, 248.8,  70.6, 292.9, 112.9,  97.2, 265.6,  95.7, 290.7,\n",
              "       266.9,  74.7,  43.1, 228. , 202.5, 177. , 293.6, 206.9,  25.1,\n",
              "       175.1,  89.7, 239.9, 227.2,  66.9, 199.8, 100.4, 216.4, 182.6,\n",
              "       262.7, 198.9,   7.3, 136.2, 210.8, 210.7,  53.5, 261.3, 239.3,\n",
              "       102.7, 131.1,  69. ,  31.5, 139.3, 237.4, 216.8, 199.1, 109.8,\n",
              "        26.8, 129.4, 213.4,  16.9,  27.5, 120.5,   5.4, 116. ,  76.4,\n",
              "       239.8,  75.3,  68.4, 213.5, 193.2,  76.3, 110.7,  88.3, 109.8,\n",
              "       134.3,  28.6, 217.7, 250.9, 107.4, 163.3, 197.6, 184.9, 289.7,\n",
              "       135.2, 222.4, 296.4, 280.2, 187.9, 238.2, 137.9,  25. ,  90.4,\n",
              "        13.1, 255.4, 225.8, 241.7, 175.7, 209.6,  78.2,  75.1, 139.2,\n",
              "        76.4, 125.7,  19.4, 141.3,  18.8, 224. , 123.1, 229.5,  87.2,\n",
              "         7.8,  80.2, 220.3,  59.6,   0.7, 265.2,   8.4, 219.8,  36.9,\n",
              "        48.3,  25.6, 273.7,  43. , 184.9,  73.4, 193.7, 220.5, 104.6,\n",
              "        96.2, 140.3, 240.1, 243.2,  38. ,  44.7, 280.7, 121. , 197.6,\n",
              "       171.3, 187.8,   4.1,  93.9, 149.8,  11.7, 131.7, 172.5,  85.7,\n",
              "       188.4, 163.5, 117.2, 234.5,  17.9, 206.8, 215.4, 284.3,  50. ,\n",
              "       164.5,  19.6, 168.4, 222.4, 276.9, 248.4, 170.2, 276.7, 165.6,\n",
              "       156.6, 218.5,  56.2, 287.6, 253.8, 205. , 139.5, 191.1, 286. ,\n",
              "        18.7,  39.5,  75.5,  17.2, 166.8, 149.7,  38.2,  94.2, 177. ,\n",
              "       283.6, 232.1])"
            ]
          },
          "metadata": {},
          "execution_count": 13
        }
      ]
    },
    {
      "cell_type": "code",
      "source": [
        "tv_average = np.average(tv_data)\n",
        "tv_average"
      ],
      "metadata": {
        "colab": {
          "base_uri": "https://localhost:8080/"
        },
        "id": "PXO9F4r_mnFn",
        "outputId": "a990eba4-2199-4ae3-f82b-2b3c7da19505"
      },
      "execution_count": 14,
      "outputs": [
        {
          "output_type": "execute_result",
          "data": {
            "text/plain": [
              "147.0425"
            ]
          },
          "metadata": {},
          "execution_count": 14
        }
      ]
    },
    {
      "cell_type": "code",
      "source": [
        "sales_counter = np.sum(sales_data >= 20)\n",
        "sales_counter"
      ],
      "metadata": {
        "colab": {
          "base_uri": "https://localhost:8080/"
        },
        "id": "zJ9xxPJCmqwH",
        "outputId": "d90b87ed-42a9-4b05-957b-be15e82dff84"
      },
      "execution_count": 15,
      "outputs": [
        {
          "output_type": "execute_result",
          "data": {
            "text/plain": [
              "40"
            ]
          },
          "metadata": {},
          "execution_count": 15
        }
      ]
    },
    {
      "cell_type": "code",
      "source": [
        "sales_cond = sales_data >= 15\n",
        "radio_data = data[:,1]\n",
        "radio_cond = radio_data * sales_cond\n",
        "radio_mean = np.sum(radio_cond)/np.sum(sales_cond)\n",
        "radio_mean"
      ],
      "metadata": {
        "colab": {
          "base_uri": "https://localhost:8080/"
        },
        "id": "Gur8pmfaoKKm",
        "outputId": "76dd3cdf-0c66-4739-8daf-8eea4fd4bac4"
      },
      "execution_count": 16,
      "outputs": [
        {
          "output_type": "execute_result",
          "data": {
            "text/plain": [
              "26.222935779816517"
            ]
          },
          "metadata": {},
          "execution_count": 16
        }
      ]
    },
    {
      "cell_type": "code",
      "source": [
        "newspaper_data = data[:,2]\n",
        "newspaper_mean = newspaper_data.mean()\n",
        "newspaper_cond = newspaper_data > newspaper_mean\n",
        "\n",
        "sales_cond = sales_data * newspaper_cond\n",
        "sales_sum = np.sum(sales_cond)\n",
        "sales_sum"
      ],
      "metadata": {
        "colab": {
          "base_uri": "https://localhost:8080/"
        },
        "id": "DQ83dTlNox-B",
        "outputId": "8e91daa0-22c7-45a0-e354-f204efaec5bc"
      },
      "execution_count": 17,
      "outputs": [
        {
          "output_type": "execute_result",
          "data": {
            "text/plain": [
              "1405.1"
            ]
          },
          "metadata": {},
          "execution_count": 17
        }
      ]
    },
    {
      "cell_type": "code",
      "source": [
        "sales_mean = sales_data.mean()\n",
        "score_sales = np.where(sales_data > sales_mean, 'Good', np.where(sales_data < sales_mean, 'Bad','Average'))\n",
        "score_sales[7:10]"
      ],
      "metadata": {
        "colab": {
          "base_uri": "https://localhost:8080/"
        },
        "id": "9tSvGWJPpzsg",
        "outputId": "c9cd12ff-347d-4552-f76f-ab8179d8a2eb"
      },
      "execution_count": 22,
      "outputs": [
        {
          "output_type": "execute_result",
          "data": {
            "text/plain": [
              "array(['Bad', 'Bad', 'Good'], dtype='<U7')"
            ]
          },
          "metadata": {},
          "execution_count": 22
        }
      ]
    },
    {
      "cell_type": "code",
      "source": [
        "average_index = np.argmin(abs(sales_data - sales_mean))\n",
        "average_index"
      ],
      "metadata": {
        "colab": {
          "base_uri": "https://localhost:8080/"
        },
        "id": "8vWArNiVq1M2",
        "outputId": "50df4f5a-e14c-4b40-c56d-e1fde7c929e8"
      },
      "execution_count": 20,
      "outputs": [
        {
          "output_type": "execute_result",
          "data": {
            "text/plain": [
              "123"
            ]
          },
          "metadata": {},
          "execution_count": 20
        }
      ]
    },
    {
      "cell_type": "code",
      "source": [
        "sales_closet = sales_data[average_index]\n",
        "sales_closet"
      ],
      "metadata": {
        "colab": {
          "base_uri": "https://localhost:8080/"
        },
        "id": "_Bp-_NWrrppV",
        "outputId": "0962a0d1-4bfb-41dc-863f-a73fcdf6a801"
      },
      "execution_count": 24,
      "outputs": [
        {
          "output_type": "execute_result",
          "data": {
            "text/plain": [
              "15.2"
            ]
          },
          "metadata": {},
          "execution_count": 24
        }
      ]
    },
    {
      "cell_type": "code",
      "source": [
        "score_sales = np.where(sales_data > sales_closet, 'Good', np.where(sales_data < sales_closet, 'Bad','Average'))\n",
        "score_sales[7:10]"
      ],
      "metadata": {
        "colab": {
          "base_uri": "https://localhost:8080/"
        },
        "id": "L5pvONXWrt8_",
        "outputId": "8e4bf33c-7ca8-4458-feac-07c1e2ed7bf3"
      },
      "execution_count": 25,
      "outputs": [
        {
          "output_type": "execute_result",
          "data": {
            "text/plain": [
              "array(['Bad', 'Bad', 'Good'], dtype='<U7')"
            ]
          },
          "metadata": {},
          "execution_count": 25
        }
      ]
    }
  ]
}